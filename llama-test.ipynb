{
 "cells": [
  {
   "cell_type": "code",
   "execution_count": 3,
   "id": "39383e38-0317-486f-9de5-d0ba6e068017",
   "metadata": {},
   "outputs": [],
   "source": [
    "import torch\n",
    "import numpy as np\n",
    "from jax import grad,vmap\n",
    "from tqdm import tqdm\n",
    "import argparse\n",
    "from transformers import (\n",
    "    LlamaForCausalLM, \n",
    "    LlamaTokenizer, \n",
    ")\n",
    "from data.serialize import serialize_arr, deserialize_str, SerializerSettings\n",
    "\n",
    "DEFAULT_EOS_TOKEN = \"</s>\"\n",
    "DEFAULT_BOS_TOKEN = \"<s>\"\n",
    "DEFAULT_UNK_TOKEN = \"<unk>\"\n",
    "\n",
    "loaded = {}\n",
    "\n",
    "def llama2_model_string(model_size, chat):\n",
    "    chat = \"chat-\" if chat else \"\"\n",
    "    return f\"meta-llama/Llama-2-{model_size.lower()}-{chat}hf\"\n",
    "\n",
    "def get_tokenizer(model):\n",
    "    name_parts = model.split(\"-\")\n",
    "    model_size = name_parts[0]\n",
    "    chat = len(name_parts) > 1\n",
    "    assert model_size in [\"7b\", \"13b\", \"70b\"]\n",
    "\n",
    "    tokenizer = LlamaTokenizer.from_pretrained(\n",
    "        llama2_model_string(model_size, chat),\n",
    "        use_fast=False,\n",
    "    )\n",
    "\n",
    "    special_tokens_dict = dict()\n",
    "    if tokenizer.eos_token is None:\n",
    "        special_tokens_dict[\"eos_token\"] = DEFAULT_EOS_TOKEN\n",
    "    if tokenizer.bos_token is None:\n",
    "        special_tokens_dict[\"bos_token\"] = DEFAULT_BOS_TOKEN\n",
    "    if tokenizer.unk_token is None:\n",
    "        special_tokens_dict[\"unk_token\"] = DEFAULT_UNK_TOKEN\n",
    "\n",
    "    tokenizer.add_special_tokens(special_tokens_dict)\n",
    "    tokenizer.pad_token = tokenizer.eos_token\n",
    "\n",
    "    return tokenizer\n",
    "\n",
    "def get_model_and_tokenizer(model_name, cache_model=False):\n",
    "    if model_name in loaded:\n",
    "        return loaded[model_name]\n",
    "    name_parts = model_name.split(\"-\")\n",
    "    model_size = name_parts[0]\n",
    "    chat = len(name_parts) > 1\n",
    "\n",
    "    assert model_size in [\"7b\", \"13b\", \"70b\"]\n",
    "\n",
    "    tokenizer = get_tokenizer(model_name)\n",
    "\n",
    "    model = LlamaForCausalLM.from_pretrained(\n",
    "        llama2_model_string(model_size, chat),\n",
    "        device_map=\"auto\",   \n",
    "        torch_dtype=torch.float16,\n",
    "    )\n",
    "    model.eval()\n",
    "    if cache_model:\n",
    "        loaded[model_name] = model, tokenizer\n",
    "    return model, tokenizer\n",
    "\n",
    "def tokenize_fn(str, model):\n",
    "    tokenizer = get_tokenizer(model)\n",
    "    return tokenizer(str)\n",
    "\n",
    "def llama_nll_fn(model, input_arr, target_arr, settings:SerializerSettings, transform, count_seps=True, temp=1, cache_model=True):\n",
    "    \"\"\" Returns the NLL/dimension (log base e) of the target array (continuous) according to the LM \n",
    "        conditioned on the input array. Applies relevant log determinant for transforms and\n",
    "        converts from discrete NLL of the LLM to continuous by assuming uniform within the bins.\n",
    "    inputs:\n",
    "        input_arr: (n,) context array\n",
    "        target_arr: (n,) ground truth array\n",
    "        cache_model: whether to cache the model and tokenizer for faster repeated calls\n",
    "    Returns: NLL/D\n",
    "    \"\"\"\n",
    "    model, tokenizer = get_model_and_tokenizer(model, cache_model=cache_model)\n",
    "\n",
    "    input_str = serialize_arr(vmap(transform)(input_arr), settings)\n",
    "    target_str = serialize_arr(vmap(transform)(target_arr), settings)\n",
    "    full_series = input_str + target_str\n",
    "    \n",
    "    batch = tokenizer(\n",
    "        [full_series], \n",
    "        return_tensors=\"pt\",\n",
    "        add_special_tokens=True\n",
    "    )\n",
    "    batch = {k: v.cuda() for k, v in batch.items()}\n",
    "\n",
    "    with torch.no_grad():\n",
    "        out = model(**batch)\n",
    "\n",
    "    good_tokens_str = list(\"0123456789\" + settings.time_sep)\n",
    "    good_tokens = [tokenizer.convert_tokens_to_ids(token) for token in good_tokens_str]\n",
    "    bad_tokens = [i for i in range(len(tokenizer)) if i not in good_tokens]\n",
    "    out['logits'][:,:,bad_tokens] = -100\n",
    "\n",
    "    input_ids = batch['input_ids'][0][1:]\n",
    "    logprobs = torch.nn.functional.log_softmax(out['logits'], dim=-1)[0][:-1]\n",
    "    logprobs = logprobs[torch.arange(len(input_ids)), input_ids].cpu().numpy()\n",
    "\n",
    "    tokens = tokenizer.batch_decode(\n",
    "        input_ids,\n",
    "        skip_special_tokens=False, \n",
    "        clean_up_tokenization_spaces=False\n",
    "    )\n",
    "    \n",
    "    input_len = len(tokenizer([input_str], return_tensors=\"pt\",)['input_ids'][0])\n",
    "    input_len = input_len - 2 # remove the BOS token\n",
    "\n",
    "    logprobs = logprobs[input_len:]\n",
    "    tokens = tokens[input_len:]\n",
    "    BPD = -logprobs.sum()/len(target_arr)\n",
    "\n",
    "    #print(\"BPD unadjusted:\", -logprobs.sum()/len(target_arr), \"BPD adjusted:\", BPD)\n",
    "    # log p(x) = log p(token) - log bin_width = log p(token) + prec * log base\n",
    "    transformed_nll = BPD - settings.prec*np.log(settings.base)\n",
    "    avg_logdet_dydx = np.log(vmap(grad(transform))(target_arr)).mean()\n",
    "    return transformed_nll-avg_logdet_dydx\n",
    "\n",
    "def llama_completion_fn(\n",
    "    model,\n",
    "    input_str,\n",
    "    steps,\n",
    "    settings,\n",
    "    batch_size=5,\n",
    "    num_samples=20,\n",
    "    temp=0.9, \n",
    "    top_p=0.9,\n",
    "    cache_model=True\n",
    "):\n",
    "    avg_tokens_per_step = len(tokenize_fn(input_str, model)['input_ids']) / len(input_str.split(settings.time_sep))\n",
    "    max_tokens = int(avg_tokens_per_step*steps)\n",
    "    \n",
    "    model, tokenizer = get_model_and_tokenizer(model, cache_model=cache_model)\n",
    "\n",
    "    gen_strs = []\n",
    "    for _ in tqdm(range(num_samples // batch_size)):\n",
    "        batch = tokenizer(\n",
    "            [input_str], \n",
    "            return_tensors=\"pt\",\n",
    "        )\n",
    "\n",
    "        batch = {k: v.repeat(batch_size, 1) for k, v in batch.items()}\n",
    "        batch = {k: v.cuda() for k, v in batch.items()}\n",
    "        num_input_ids = batch['input_ids'].shape[1]\n",
    "\n",
    "        good_tokens_str = list(\"0123456789\" + settings.time_sep)\n",
    "        good_tokens = [tokenizer.convert_tokens_to_ids(token) for token in good_tokens_str]\n",
    "        # good_tokens += [tokenizer.eos_token_id]\n",
    "        bad_tokens = [i for i in range(len(tokenizer)) if i not in good_tokens]\n",
    "\n",
    "        generate_ids = model.generate(\n",
    "            **batch,\n",
    "            do_sample=True,\n",
    "            max_new_tokens=max_tokens,\n",
    "            temperature=temp, \n",
    "            top_p=top_p, \n",
    "            bad_words_ids=[[t] for t in bad_tokens],\n",
    "            renormalize_logits=True,\n",
    "        )\n",
    "        gen_strs += tokenizer.batch_decode(\n",
    "            generate_ids[:, num_input_ids:],\n",
    "            skip_special_tokens=True, \n",
    "            clean_up_tokenization_spaces=False\n",
    "        )\n",
    "    return gen_strs\n"
   ]
  },
  {
   "cell_type": "code",
   "execution_count": 9,
   "id": "4918db72-cee1-4902-9b85-5e44800fb35e",
   "metadata": {},
   "outputs": [
    {
     "data": {
      "text/plain": [
       "'meta-llama/Llama-2-7b-hf'"
      ]
     },
     "execution_count": 9,
     "metadata": {},
     "output_type": "execute_result"
    }
   ],
   "source": [
    "llama2_model_string('7b','')"
   ]
  },
  {
   "cell_type": "code",
   "execution_count": 13,
   "id": "f1651d77-43f4-41b2-b7bd-74e447913d1a",
   "metadata": {},
   "outputs": [
    {
     "data": {
      "application/vnd.jupyter.widget-view+json": {
       "model_id": "4b321d85b26f452ea66c3c72bcb4a425",
       "version_major": 2,
       "version_minor": 0
      },
      "text/plain": [
       "tokenizer_config.json:   0%|          | 0.00/776 [00:00<?, ?B/s]"
      ]
     },
     "metadata": {},
     "output_type": "display_data"
    },
    {
     "name": "stderr",
     "output_type": "stream",
     "text": [
      "C:\\Users\\lenovo\\anaconda3\\envs\\llmtime\\lib\\site-packages\\huggingface_hub\\file_download.py:147: UserWarning: `huggingface_hub` cache-system uses symlinks by default to efficiently store duplicated files but your machine does not support them in C:\\Users\\lenovo\\.cache\\huggingface\\hub. Caching files will still work but in a degraded version that might require more space on your disk. This warning can be disabled by setting the `HF_HUB_DISABLE_SYMLINKS_WARNING` environment variable. For more details, see https://huggingface.co/docs/huggingface_hub/how-to-cache#limitations.\n",
      "To support symlinks on Windows, you either need to activate Developer Mode or to run Python as an administrator. In order to see activate developer mode, see this article: https://docs.microsoft.com/en-us/windows/apps/get-started/enable-your-device-for-development\n",
      "  warnings.warn(message)\n"
     ]
    },
    {
     "data": {
      "application/vnd.jupyter.widget-view+json": {
       "model_id": "5c51752c264740df85c95097660a453c",
       "version_major": 2,
       "version_minor": 0
      },
      "text/plain": [
       "tokenizer.model:   0%|          | 0.00/500k [00:00<?, ?B/s]"
      ]
     },
     "metadata": {},
     "output_type": "display_data"
    },
    {
     "data": {
      "application/vnd.jupyter.widget-view+json": {
       "model_id": "8f6faa101ec9407f8a89b2b0b1d1adc1",
       "version_major": 2,
       "version_minor": 0
      },
      "text/plain": [
       "special_tokens_map.json:   0%|          | 0.00/414 [00:00<?, ?B/s]"
      ]
     },
     "metadata": {},
     "output_type": "display_data"
    },
    {
     "data": {
      "application/vnd.jupyter.widget-view+json": {
       "model_id": "6c8b3d04e84845239f97cbcbc6b0cc91",
       "version_major": 2,
       "version_minor": 0
      },
      "text/plain": [
       "tokenizer.json:   0%|          | 0.00/1.84M [00:00<?, ?B/s]"
      ]
     },
     "metadata": {},
     "output_type": "display_data"
    },
    {
     "data": {
      "text/plain": [
       "LlamaTokenizer(name_or_path='meta-llama/Llama-2-7b-hf', vocab_size=32000, model_max_length=1000000000000000019884624838656, is_fast=False, padding_side='right', truncation_side='right', special_tokens={'bos_token': '<s>', 'eos_token': '</s>', 'unk_token': '<unk>', 'pad_token': '</s>'}, clean_up_tokenization_spaces=False),  added_tokens_decoder={\n",
       "\t0: AddedToken(\"<unk>\", rstrip=False, lstrip=False, single_word=False, normalized=False, special=True),\n",
       "\t1: AddedToken(\"<s>\", rstrip=False, lstrip=False, single_word=False, normalized=False, special=True),\n",
       "\t2: AddedToken(\"</s>\", rstrip=False, lstrip=False, single_word=False, normalized=False, special=True),\n",
       "}"
      ]
     },
     "execution_count": 13,
     "metadata": {},
     "output_type": "execute_result"
    }
   ],
   "source": [
    "get_tokenizer('7b')"
   ]
  },
  {
   "cell_type": "code",
   "execution_count": 16,
   "id": "b8a31ba6-ce1f-42da-ad42-03eed952b2a9",
   "metadata": {},
   "outputs": [
    {
     "data": {
      "application/vnd.jupyter.widget-view+json": {
       "model_id": "3dfd238bd3db4e69b81f2e6dd558b041",
       "version_major": 2,
       "version_minor": 0
      },
      "text/plain": [
       "config.json:   0%|          | 0.00/609 [00:00<?, ?B/s]"
      ]
     },
     "metadata": {},
     "output_type": "display_data"
    },
    {
     "data": {
      "application/vnd.jupyter.widget-view+json": {
       "model_id": "4e99c1d0e08847038b15526e5659ccd7",
       "version_major": 2,
       "version_minor": 0
      },
      "text/plain": [
       "model.safetensors.index.json:   0%|          | 0.00/26.8k [00:00<?, ?B/s]"
      ]
     },
     "metadata": {},
     "output_type": "display_data"
    },
    {
     "data": {
      "application/vnd.jupyter.widget-view+json": {
       "model_id": "9a534b926efb48d28281bd8c9231b6ef",
       "version_major": 2,
       "version_minor": 0
      },
      "text/plain": [
       "Downloading shards:   0%|          | 0/2 [00:00<?, ?it/s]"
      ]
     },
     "metadata": {},
     "output_type": "display_data"
    },
    {
     "data": {
      "application/vnd.jupyter.widget-view+json": {
       "model_id": "4355645ab2ad4e9bb72a2a9701f08110",
       "version_major": 2,
       "version_minor": 0
      },
      "text/plain": [
       "model-00001-of-00002.safetensors:   0%|          | 0.00/9.98G [00:00<?, ?B/s]"
      ]
     },
     "metadata": {},
     "output_type": "display_data"
    },
    {
     "data": {
      "application/vnd.jupyter.widget-view+json": {
       "model_id": "5fc825018973427ba0a40620cd8d6cc3",
       "version_major": 2,
       "version_minor": 0
      },
      "text/plain": [
       "model-00002-of-00002.safetensors:   0%|          | 0.00/3.50G [00:00<?, ?B/s]"
      ]
     },
     "metadata": {},
     "output_type": "display_data"
    },
    {
     "data": {
      "application/vnd.jupyter.widget-view+json": {
       "model_id": "a5f76ed158d142deb30d51f51852a227",
       "version_major": 2,
       "version_minor": 0
      },
      "text/plain": [
       "Loading checkpoint shards:   0%|          | 0/2 [00:00<?, ?it/s]"
      ]
     },
     "metadata": {},
     "output_type": "display_data"
    },
    {
     "data": {
      "application/vnd.jupyter.widget-view+json": {
       "model_id": "0c103c22e9a74f67aa08ada2beefe14b",
       "version_major": 2,
       "version_minor": 0
      },
      "text/plain": [
       "generation_config.json:   0%|          | 0.00/188 [00:00<?, ?B/s]"
      ]
     },
     "metadata": {},
     "output_type": "display_data"
    },
    {
     "data": {
      "text/plain": [
       "(LlamaForCausalLM(\n",
       "   (model): LlamaModel(\n",
       "     (embed_tokens): Embedding(32000, 4096)\n",
       "     (layers): ModuleList(\n",
       "       (0-31): 32 x LlamaDecoderLayer(\n",
       "         (self_attn): LlamaAttention(\n",
       "           (q_proj): Linear(in_features=4096, out_features=4096, bias=False)\n",
       "           (k_proj): Linear(in_features=4096, out_features=4096, bias=False)\n",
       "           (v_proj): Linear(in_features=4096, out_features=4096, bias=False)\n",
       "           (o_proj): Linear(in_features=4096, out_features=4096, bias=False)\n",
       "           (rotary_emb): LlamaRotaryEmbedding()\n",
       "         )\n",
       "         (mlp): LlamaMLP(\n",
       "           (gate_proj): Linear(in_features=4096, out_features=11008, bias=False)\n",
       "           (up_proj): Linear(in_features=4096, out_features=11008, bias=False)\n",
       "           (down_proj): Linear(in_features=11008, out_features=4096, bias=False)\n",
       "           (act_fn): SiLUActivation()\n",
       "         )\n",
       "         (input_layernorm): LlamaRMSNorm()\n",
       "         (post_attention_layernorm): LlamaRMSNorm()\n",
       "       )\n",
       "     )\n",
       "     (norm): LlamaRMSNorm()\n",
       "   )\n",
       "   (lm_head): Linear(in_features=4096, out_features=32000, bias=False)\n",
       " ),\n",
       " LlamaTokenizer(name_or_path='meta-llama/Llama-2-7b-hf', vocab_size=32000, model_max_length=1000000000000000019884624838656, is_fast=False, padding_side='right', truncation_side='right', special_tokens={'bos_token': '<s>', 'eos_token': '</s>', 'unk_token': '<unk>', 'pad_token': '</s>'}, clean_up_tokenization_spaces=False),  added_tokens_decoder={\n",
       " \t0: AddedToken(\"<unk>\", rstrip=False, lstrip=False, single_word=False, normalized=False, special=True),\n",
       " \t1: AddedToken(\"<s>\", rstrip=False, lstrip=False, single_word=False, normalized=False, special=True),\n",
       " \t2: AddedToken(\"</s>\", rstrip=False, lstrip=False, single_word=False, normalized=False, special=True),\n",
       " })"
      ]
     },
     "execution_count": 16,
     "metadata": {},
     "output_type": "execute_result"
    }
   ],
   "source": [
    "get_model_and_tokenizer('7b', cache_model=False)"
   ]
  },
  {
   "cell_type": "code",
   "execution_count": 26,
   "id": "258cbcd8-1727-4727-8f73-3c3db7092d6a",
   "metadata": {},
   "outputs": [
    {
     "data": {
      "text/plain": [
       "{'input_ids': [1, 29871, 29900, 29889, 29896, 29906, 29941, 29892, 29871, 29896, 29889, 29906, 29941, 29892, 29871, 29896, 29906, 29889, 29941, 29892, 29871, 29896, 29906, 29941], 'attention_mask': [1, 1, 1, 1, 1, 1, 1, 1, 1, 1, 1, 1, 1, 1, 1, 1, 1, 1, 1, 1, 1, 1, 1, 1]}"
      ]
     },
     "execution_count": 26,
     "metadata": {},
     "output_type": "execute_result"
    }
   ],
   "source": [
    "tokenize_fn('0.123, 1.23, 12.3, 123', '7b')"
   ]
  },
  {
   "cell_type": "code",
   "execution_count": 31,
   "id": "07a46e80-9282-47b8-94b2-a5997765bd15",
   "metadata": {},
   "outputs": [
    {
     "ename": "ValueError",
     "evalue": "vmap was requested to map its argument along axis 0, which implies that its rank should be at least 1, but is only 0 (its shape is ())",
     "output_type": "error",
     "traceback": [
      "\u001b[1;31m---------------------------------------------------------------------------\u001b[0m",
      "\u001b[1;31mIndexError\u001b[0m                                Traceback (most recent call last)",
      "File \u001b[1;32m~\\anaconda3\\envs\\llmtime\\lib\\site-packages\\jax\\_src\\api.py:1269\u001b[0m, in \u001b[0;36m_mapped_axis_size.<locals>._get_axis_size\u001b[1;34m(name, shape, axis)\u001b[0m\n\u001b[0;32m   1268\u001b[0m \u001b[38;5;28;01mtry\u001b[39;00m:\n\u001b[1;32m-> 1269\u001b[0m   \u001b[38;5;28;01mreturn\u001b[39;00m \u001b[43mshape\u001b[49m\u001b[43m[\u001b[49m\u001b[43maxis\u001b[49m\u001b[43m]\u001b[49m\n\u001b[0;32m   1270\u001b[0m \u001b[38;5;28;01mexcept\u001b[39;00m (\u001b[38;5;167;01mIndexError\u001b[39;00m, \u001b[38;5;167;01mTypeError\u001b[39;00m) \u001b[38;5;28;01mas\u001b[39;00m e:\n",
      "\u001b[1;31mIndexError\u001b[0m: tuple index out of range",
      "\nThe above exception was the direct cause of the following exception:\n",
      "\u001b[1;31mValueError\u001b[0m                                Traceback (most recent call last)",
      "Cell \u001b[1;32mIn[31], line 2\u001b[0m\n\u001b[0;32m      1\u001b[0m transform: \u001b[38;5;28mcallable\u001b[39m \u001b[38;5;241m=\u001b[39m \u001b[38;5;28;01mlambda\u001b[39;00m x: x\n\u001b[1;32m----> 2\u001b[0m \u001b[43mllama_nll_fn\u001b[49m\u001b[43m(\u001b[49m\u001b[38;5;124;43m'\u001b[39;49m\u001b[38;5;124;43m7b\u001b[39;49m\u001b[38;5;124;43m'\u001b[39;49m\u001b[43m,\u001b[49m\u001b[43m \u001b[49m\u001b[43m[\u001b[49m\u001b[38;5;241;43m0.1\u001b[39;49m\u001b[43m,\u001b[49m\u001b[43m \u001b[49m\u001b[38;5;241;43m0.3\u001b[39;49m\u001b[43m,\u001b[49m\u001b[43m \u001b[49m\u001b[38;5;241;43m0.5\u001b[39;49m\u001b[43m,\u001b[49m\u001b[43m \u001b[49m\u001b[38;5;241;43m0.1\u001b[39;49m\u001b[43m]\u001b[49m\u001b[43m,\u001b[49m\u001b[43m \u001b[49m\u001b[43m[\u001b[49m\u001b[38;5;241;43m0\u001b[39;49m\u001b[43m,\u001b[49m\u001b[43m \u001b[49m\u001b[38;5;241;43m0\u001b[39;49m\u001b[43m,\u001b[49m\u001b[43m \u001b[49m\u001b[38;5;241;43m0\u001b[39;49m\u001b[43m,\u001b[49m\u001b[43m \u001b[49m\u001b[38;5;241;43m1\u001b[39;49m\u001b[43m]\u001b[49m\u001b[43m,\u001b[49m\u001b[43m \u001b[49m\u001b[43mSerializerSettings\u001b[49m\u001b[43m,\u001b[49m\u001b[43m \u001b[49m\u001b[43mtransform\u001b[49m\u001b[43m,\u001b[49m\u001b[43m \u001b[49m\u001b[43mcount_seps\u001b[49m\u001b[38;5;241;43m=\u001b[39;49m\u001b[38;5;28;43;01mTrue\u001b[39;49;00m\u001b[43m,\u001b[49m\u001b[43m \u001b[49m\u001b[43mtemp\u001b[49m\u001b[38;5;241;43m=\u001b[39;49m\u001b[38;5;241;43m1\u001b[39;49m\u001b[43m,\u001b[49m\u001b[43m \u001b[49m\u001b[43mcache_model\u001b[49m\u001b[38;5;241;43m=\u001b[39;49m\u001b[38;5;28;43;01mTrue\u001b[39;49;00m\u001b[43m)\u001b[49m\n",
      "Cell \u001b[1;32mIn[3], line 83\u001b[0m, in \u001b[0;36mllama_nll_fn\u001b[1;34m(model, input_arr, target_arr, settings, transform, count_seps, temp, cache_model)\u001b[0m\n\u001b[0;32m     72\u001b[0m \u001b[38;5;250m\u001b[39m\u001b[38;5;124;03m\"\"\" Returns the NLL/dimension (log base e) of the target array (continuous) according to the LM \u001b[39;00m\n\u001b[0;32m     73\u001b[0m \u001b[38;5;124;03m    conditioned on the input array. Applies relevant log determinant for transforms and\u001b[39;00m\n\u001b[0;32m     74\u001b[0m \u001b[38;5;124;03m    converts from discrete NLL of the LLM to continuous by assuming uniform within the bins.\u001b[39;00m\n\u001b[1;32m   (...)\u001b[0m\n\u001b[0;32m     79\u001b[0m \u001b[38;5;124;03mReturns: NLL/D\u001b[39;00m\n\u001b[0;32m     80\u001b[0m \u001b[38;5;124;03m\"\"\"\u001b[39;00m\n\u001b[0;32m     81\u001b[0m model, tokenizer \u001b[38;5;241m=\u001b[39m get_model_and_tokenizer(model, cache_model\u001b[38;5;241m=\u001b[39mcache_model)\n\u001b[1;32m---> 83\u001b[0m input_str \u001b[38;5;241m=\u001b[39m serialize_arr(\u001b[43mvmap\u001b[49m\u001b[43m(\u001b[49m\u001b[43mtransform\u001b[49m\u001b[43m)\u001b[49m\u001b[43m(\u001b[49m\u001b[43minput_arr\u001b[49m\u001b[43m)\u001b[49m, settings)\n\u001b[0;32m     84\u001b[0m target_str \u001b[38;5;241m=\u001b[39m serialize_arr(vmap(transform)(target_arr), settings)\n\u001b[0;32m     85\u001b[0m full_series \u001b[38;5;241m=\u001b[39m input_str \u001b[38;5;241m+\u001b[39m target_str\n",
      "    \u001b[1;31m[... skipping hidden 6 frame]\u001b[0m\n",
      "File \u001b[1;32m~\\anaconda3\\envs\\llmtime\\lib\\site-packages\\jax\\_src\\api.py:1273\u001b[0m, in \u001b[0;36m_mapped_axis_size.<locals>._get_axis_size\u001b[1;34m(name, shape, axis)\u001b[0m\n\u001b[0;32m   1271\u001b[0m min_rank \u001b[38;5;241m=\u001b[39m axis \u001b[38;5;241m+\u001b[39m \u001b[38;5;241m1\u001b[39m \u001b[38;5;28;01mif\u001b[39;00m axis \u001b[38;5;241m>\u001b[39m\u001b[38;5;241m=\u001b[39m \u001b[38;5;241m0\u001b[39m \u001b[38;5;28;01melse\u001b[39;00m \u001b[38;5;241m-\u001b[39maxis\n\u001b[0;32m   1272\u001b[0m \u001b[38;5;66;03m# TODO(mattjj): better error message here\u001b[39;00m\n\u001b[1;32m-> 1273\u001b[0m \u001b[38;5;28;01mraise\u001b[39;00m \u001b[38;5;167;01mValueError\u001b[39;00m(\n\u001b[0;32m   1274\u001b[0m     \u001b[38;5;124mf\u001b[39m\u001b[38;5;124m\"\u001b[39m\u001b[38;5;132;01m{\u001b[39;00mname\u001b[38;5;132;01m}\u001b[39;00m\u001b[38;5;124m was requested to map its argument along axis \u001b[39m\u001b[38;5;132;01m{\u001b[39;00maxis\u001b[38;5;132;01m}\u001b[39;00m\u001b[38;5;124m, \u001b[39m\u001b[38;5;124m\"\u001b[39m\n\u001b[0;32m   1275\u001b[0m     \u001b[38;5;124mf\u001b[39m\u001b[38;5;124m\"\u001b[39m\u001b[38;5;124mwhich implies that its rank should be at least \u001b[39m\u001b[38;5;132;01m{\u001b[39;00mmin_rank\u001b[38;5;132;01m}\u001b[39;00m\u001b[38;5;124m, \u001b[39m\u001b[38;5;124m\"\u001b[39m\n\u001b[0;32m   1276\u001b[0m     \u001b[38;5;124mf\u001b[39m\u001b[38;5;124m\"\u001b[39m\u001b[38;5;124mbut is only \u001b[39m\u001b[38;5;132;01m{\u001b[39;00m\u001b[38;5;28mlen\u001b[39m(shape)\u001b[38;5;132;01m}\u001b[39;00m\u001b[38;5;124m (its shape is \u001b[39m\u001b[38;5;132;01m{\u001b[39;00mshape\u001b[38;5;132;01m}\u001b[39;00m\u001b[38;5;124m)\u001b[39m\u001b[38;5;124m\"\u001b[39m) \u001b[38;5;28;01mfrom\u001b[39;00m \u001b[38;5;21;01me\u001b[39;00m\n",
      "\u001b[1;31mValueError\u001b[0m: vmap was requested to map its argument along axis 0, which implies that its rank should be at least 1, but is only 0 (its shape is ())"
     ]
    }
   ],
   "source": [
    "transform: callable = lambda x: x\n",
    "llama_nll_fn('7b', [0.1, 0.3, 0.5, 0.1], [0, 0, 0, 1], SerializerSettings, transform, count_seps=True, temp=1, cache_model=True)"
   ]
  },
  {
   "cell_type": "code",
   "execution_count": null,
   "id": "a4092088-60a1-4f9e-ba95-40140ddcc606",
   "metadata": {},
   "outputs": [],
   "source": []
  }
 ],
 "metadata": {
  "kernelspec": {
   "display_name": "Python 3 (ipykernel)",
   "language": "python",
   "name": "python3"
  },
  "language_info": {
   "codemirror_mode": {
    "name": "ipython",
    "version": 3
   },
   "file_extension": ".py",
   "mimetype": "text/x-python",
   "name": "python",
   "nbconvert_exporter": "python",
   "pygments_lexer": "ipython3",
   "version": "3.9.18"
  }
 },
 "nbformat": 4,
 "nbformat_minor": 5
}
